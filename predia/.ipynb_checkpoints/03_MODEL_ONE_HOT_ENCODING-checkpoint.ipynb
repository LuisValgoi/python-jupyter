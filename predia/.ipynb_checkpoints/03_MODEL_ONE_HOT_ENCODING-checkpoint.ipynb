{
 "cells": [
  {
   "cell_type": "code",
   "execution_count": null,
   "metadata": {},
   "outputs": [],
   "source": [
    "# imports\n",
    "import pandas as pd\n",
    "import numpy as np\n",
    "from dateutil import parser"
   ]
  },
  {
   "cell_type": "code",
   "execution_count": null,
   "metadata": {},
   "outputs": [],
   "source": [
    "# configs\n",
    "import warnings\n",
    "warnings.filterwarnings(\"ignore\")"
   ]
  },
  {
   "cell_type": "code",
   "execution_count": null,
   "metadata": {},
   "outputs": [],
   "source": [
    "# read csvs & build dataframe\n",
    "df = pd.DataFrame()\n",
    "df_temp = pd.read_csv('./datasets/temperatura_featured.csv')\n",
    "df_vendas = pd.read_csv('./datasets/vendas.csv', ';')\n",
    "df_conc = pd.read_csv('./datasets/concorrentes.csv', ';')"
   ]
  },
  {
   "cell_type": "code",
   "execution_count": null,
   "metadata": {},
   "outputs": [],
   "source": [
    "# pre-processing\n",
    "def get_dias_fechados():\n",
    "    return ['2018-02-12', '2018-02-13', '2018-03-30', '2018-11-02', '2018-12-25', '2018-12-29', '2018-12-30', '2018-12-31', '2019-01-01', '2019-03-03', '2019-03-04', '2019-03-05', '2019-04-19', '2019-11-02', '2019-12-25', '2019-12-29', '2019-12-30', '2019-12-31', '2020-01-01', '2020-02-24', '2020-02-25']\n",
    "\n",
    "def get_dias_fds():\n",
    "    return ['Sunday', 'Saturday']\n",
    "\n",
    "def get_dias_feriados():\n",
    "    return ['2018-02-12', '2018-02-13', '2018-03-30', '2018-04-21', '2018-04-30', '2018-05-01', '2018-05-31', '2018-06-01', '2018-09-07', '2018-10-12', '2018-11-02', '2018-11-15', '2018-11-16', '2018-12-24', '2018-12-25', '2018-12-29', '2018-12-30', '2018-12-31', \n",
    "'2019-01-01', '2019-03-04', '2019-03-05', '2019-04-19', '2019-04-21', '2019-05-01', '2019-06-20', '2019-06-21', '2019-09-07', '2019-10-12', '2019-11-02', '2019-11-15', '2019-12-25', '2019-12-25', '2019-12-25', '2019-12-30', '2019-12-31', \n",
    "'2020-01-01', '2020-02-24', '2020-02-25']\n",
    "\n",
    "def get_dias_festivos():\n",
    "    return ['2018-02-12', '2018-02-13', '2018-05-13', '2018-08-12', '2018-12-25', '2018-12-29', '2018-12-30', '2018-12-31', '2019-01-01', '2019-03-03', '2019-03-04', '2019-03-05', '2019-05-12', '2019-08-11', '2019-12-25', '2019-12-29', '2019-12-30', '2019-12-31', '2020-01-01', '2020-02-24', '2020-02-25']\n",
    "\n",
    "def get_vesperas_dias_festivos():\n",
    "    vesperas = []\n",
    "    for i in range(len(get_dias_festivos())):\n",
    "        vesperas_dia_festivo_current = pd.Series(pd.date_range(end=get_dias_festivos()[i], periods=5, closed='left'))\n",
    "        for j in range(len(vesperas_dia_festivo_current)):\n",
    "            for o in range(len(get_dias_festivos())):\n",
    "                if (vesperas_dia_festivo_current[j] != get_dias_festivos()[o]):\n",
    "                    vesperas.append(vesperas_dia_festivo_current[j])\n",
    "    return vesperas\n",
    "\n",
    "def get_pos_dias_festivos():\n",
    "    pos = []\n",
    "    for i in range(len(get_dias_festivos())):\n",
    "        pos_dia_festivo_current = pd.Series(pd.date_range(get_dias_festivos()[i], periods=3, closed='right'))\n",
    "        for j in range(len(pos_dia_festivo_current)):\n",
    "            for o in range(len(get_dias_festivos())):\n",
    "                if (pos_dia_festivo_current[j] != get_dias_festivos()[o]):\n",
    "                    pos.append(pos_dia_festivo_current[j])\n",
    "    return pos\n",
    "\n",
    "def get_dias_acerca_pagamento():\n",
    "    return [5,6,7,8,9,10,28,29,30,31]\n",
    "\n",
    "def get_meses_baixas_temporadas():\n",
    "    return [1, 2]\n",
    "\n",
    "# preprocessing\n",
    "df.insert(loc=0, column='DATA', value=(pd.to_datetime(df_vendas['DATA'], dayfirst=True)))\n",
    "df.insert(loc=1, column='VENDAS', value=(df_vendas['VENDAS'].fillna(0).astype(int)))\n",
    "df.insert(loc=2, column='FECHADO', value=(pd.DatetimeIndex(df_temp['DATA']).isin(get_dias_fechados())).astype(int))\n",
    "df.insert(loc=3, column='ABERTO', value=(~pd.DatetimeIndex(df_temp['DATA']).isin(get_dias_fechados())).astype(int))\n",
    "df.insert(loc=4, column='FDS', value=(pd.DatetimeIndex(df_temp['DATA']).day_name().isin(get_dias_fds())).astype(int))\n",
    "df.insert(loc=5, column='DS', value=(~pd.DatetimeIndex(df_temp['DATA']).day_name().isin(get_dias_fds())).astype(int))\n",
    "df.insert(loc=6, column='DATA_FESTIVA', value=(pd.DatetimeIndex(df_temp['DATA']).isin(get_dias_festivos())).astype(int))\n",
    "df.insert(loc=7, column='VESPERA_DATA_FESTIVA', value=(pd.DatetimeIndex(df_temp['DATA']).isin(get_vesperas_dias_festivos())).astype(int))\n",
    "df.insert(loc=8, column='POS_DATA_FESTIVA', value=(pd.DatetimeIndex(df_temp['DATA']).isin(get_pos_dias_festivos())).astype(int))\n",
    "df.insert(loc=9, column='DATA_NAO_FESTIVA', value=((~pd.DatetimeIndex(df_temp['DATA']).isin(get_dias_festivos())) & (~pd.DatetimeIndex(df_temp['DATA']).isin(get_vesperas_dias_festivos())) & (~pd.DatetimeIndex(df_temp['DATA']).isin(get_pos_dias_festivos()))).astype(int))\n",
    "df.insert(loc=10, column='FERIADO', value=(pd.DatetimeIndex(df_temp['DATA']).isin(get_dias_feriados())).astype(int))\n",
    "df.insert(loc=11, column='NAO_FERIADO', value=(~pd.DatetimeIndex(df_temp['DATA']).isin(get_dias_feriados())).astype(int))\n",
    "df.insert(loc=12, column='SEMANA_PAGAMENTO', value=(pd.DatetimeIndex(df_temp['DATA']).day.astype(int).isin(get_dias_acerca_pagamento())).astype(int))\n",
    "df.insert(loc=13, column='SEMANA_DE_NAO_PAGAMENTO', value=(~pd.DatetimeIndex(df_temp['DATA']).day.astype(int).isin(get_dias_acerca_pagamento())).astype(int))\n",
    "df.insert(loc=14, column='BAIXA_TEMPORADA', value=(pd.DatetimeIndex(df_temp['DATA']).month.isin(get_meses_baixas_temporadas())).astype(int))\n",
    "df.insert(loc=15, column='ALTA_TEMPORADA', value=(~pd.DatetimeIndex(df_temp['DATA']).month.isin(get_meses_baixas_temporadas())).astype(int))\n",
    "df.insert(loc=16, column='QTD_CONCORRENTES', value=(df_conc['CONCORRENTES'].fillna(0).astype(int)))\n",
    "df.insert(loc=17, column='PRECIPITACAO', value=(df_temp['PRECIPITACAO']))\n",
    "df.insert(loc=18, column='TEMPERATURA', value=(df_temp['TEMPERATURA']))\n",
    "df.insert(loc=19, column='UMIDADE', value=(df_temp['UMIDADE']))\n",
    "\n",
    "# removing outliers\n",
    "df = df.query('FECHADO == 0 and ABERTO == 1')\n",
    "df = df.drop(columns=['FECHADO', 'ABERTO'])"
   ]
  },
  {
   "cell_type": "code",
   "execution_count": null,
   "metadata": {},
   "outputs": [],
   "source": [
    "pd.set_option('display.max_rows', 5)"
   ]
  },
  {
   "cell_type": "code",
   "execution_count": null,
   "metadata": {},
   "outputs": [],
   "source": [
    "df3 = df.query('VENDAS < 220')\n",
    "df3"
   ]
  },
  {
   "cell_type": "code",
   "execution_count": null,
   "metadata": {},
   "outputs": [],
   "source": [
    "df.info()"
   ]
  },
  {
   "cell_type": "code",
   "execution_count": null,
   "metadata": {},
   "outputs": [],
   "source": [
    "pd.set_option('display.max_rows', None)"
   ]
  },
  {
   "cell_type": "code",
   "execution_count": null,
   "metadata": {},
   "outputs": [],
   "source": [
    "df.describe()"
   ]
  },
  {
   "cell_type": "code",
   "execution_count": null,
   "metadata": {},
   "outputs": [],
   "source": [
    "df.median()"
   ]
  },
  {
   "cell_type": "code",
   "execution_count": null,
   "metadata": {},
   "outputs": [],
   "source": [
    "print(df.isnull().values.any())\n",
    "print(df.isna().values.any())"
   ]
  },
  {
   "cell_type": "code",
   "execution_count": null,
   "metadata": {},
   "outputs": [],
   "source": [
    "import mpld3\n",
    "import matplotlib.style as style\n",
    "import matplotlib.pyplot as plt\n",
    "mpld3.enable_notebook()\n",
    "\n",
    "df.plot(y=['VENDAS', 'TEMPERATURA'], x='DATA', figsize=(14, 5), linestyle='solid', linewidth=1, markersize=1)\n",
    "plt.legend(loc=1)\n",
    "plt.title('AMOSTRAGEM DE TODOS OS DIAS ABERTOS ENTRE VENDAS E TEMPERATURA')\n",
    "plt.xlabel('DATA')\n",
    "plt.ylabel('VENDAS')\n",
    "plt.show()"
   ]
  },
  {
   "cell_type": "code",
   "execution_count": null,
   "metadata": {},
   "outputs": [],
   "source": [
    "df.plot(y='VENDAS', x='DATA', figsize=(14, 5), kind='box')\n",
    "plt.title('AMOSTRAGEM DA MEDIANADA DE TODOS OS DIAS ABERTOS')\n",
    "plt.show()"
   ]
  },
  {
   "cell_type": "code",
   "execution_count": null,
   "metadata": {},
   "outputs": [],
   "source": [
    "df.plot(y='VENDAS', x='DATA', figsize=(14, 5), kind='kde')\n",
    "plt.legend(loc=1)\n",
    "plt.title('ESTIMATIVA DE DENSIDADE DE KERNEL DE VENDAS')\n",
    "plt.xlabel('VENDAS')\n",
    "plt.ylabel('DENSIDADE')\n",
    "plt.show()"
   ]
  },
  {
   "cell_type": "code",
   "execution_count": null,
   "metadata": {},
   "outputs": [],
   "source": [
    "query = (df['DATA'] >= \"2019-06-01\") & (df['DATA'] <= \"2019-06-30\")\n",
    "df2 = df.loc[query]\n",
    "df2.sort_values(by=['DATA'], inplace=True, ascending=True)\n",
    "df2.plot(y=['VENDAS', 'PRECIPITACAO'], x='DATA', figsize=(14, 5), linestyle='solid', linewidth=1, markersize=1)\n",
    "plt.legend(loc=3)\n",
    "plt.title('AMOSTRAGEM DO MÊS DE MAIO DE 2019')\n",
    "plt.xlabel('DATA')\n",
    "plt.ylabel('VENDAS')\n",
    "plt.show()"
   ]
  },
  {
   "cell_type": "code",
   "execution_count": null,
   "metadata": {},
   "outputs": [],
   "source": [
    "import pandas as pd\n",
    "import numpy as np\n",
    "from sklearn import preprocessing\n",
    "import matplotlib\n",
    "import matplotlib.pyplot as plt\n",
    "import seaborn as sns\n",
    "\n",
    "matplotlib.style.use('ggplot')\n",
    "\n",
    "scaler = preprocessing.StandardScaler()\n",
    "scaled_df = scaler.fit_transform(X)\n",
    "scaled_df = pd.DataFrame(scaled_df, columns=['FDS', 'DS', 'DATA_FESTIVA', 'VESPERA_DATA_FESTIVA', 'POS_DATA_FESTIVA', 'DATA_NAO_FESTIVA', 'FERIADO', 'NAO_FERIADO', 'SEMANA_PAGAMENTO', 'SEMANA_DE_NAO_PAGAMENTO', 'BAIXA_TEMPORADA', 'ALTA_TEMPORADA', 'QTD_CONCORRENTES', 'PRECIPITACAO', 'TEMPERATURA', 'UMIDADE'])\n",
    "fig, (ax1, ax2) = plt.subplots(ncols=2, figsize=(14, 5))\n",
    "\n",
    "sns.kdeplot(df['FDS'], bw=1.5, ax=ax1)\n",
    "sns.kdeplot(df['DS'], bw=1.5, ax=ax1)\n",
    "sns.kdeplot(df['DATA_FESTIVA'], bw=1.5, ax=ax1)\n",
    "sns.kdeplot(df['VESPERA_DATA_FESTIVA'], bw=1.5, ax=ax1)\n",
    "sns.kdeplot(df['POS_DATA_FESTIVA'], bw=1.5, ax=ax1)\n",
    "sns.kdeplot(df['DATA_NAO_FESTIVA'], bw=1.5, ax=ax1)\n",
    "sns.kdeplot(df['FERIADO'], bw=1.5, ax=ax1)\n",
    "sns.kdeplot(df['NAO_FERIADO'], bw=1.5, ax=ax1)\n",
    "sns.kdeplot(df['SEMANA_PAGAMENTO'], bw=1.5, ax=ax1)\n",
    "sns.kdeplot(df['SEMANA_DE_NAO_PAGAMENTO'], bw=1.5, ax=ax1)\n",
    "sns.kdeplot(df['BAIXA_TEMPORADA'], bw=1.5, ax=ax1)\n",
    "sns.kdeplot(df['ALTA_TEMPORADA'], bw=1.5, ax=ax1)\n",
    "sns.kdeplot(df['QTD_CONCORRENTES'], bw=1.5, ax=ax1)\n",
    "sns.kdeplot(df['PRECIPITACAO'], bw=1.5, ax=ax1)\n",
    "sns.kdeplot(df['TEMPERATURA'], bw=1.5, ax=ax1)\n",
    "sns.kdeplot(df['UMIDADE'], bw=1.5, ax=ax1)\n",
    "\n",
    "sns.kdeplot(scaled_df['FDS'], bw=1.5, ax=ax2)\n",
    "sns.kdeplot(scaled_df['DS'], bw=1.5, ax=ax2)\n",
    "sns.kdeplot(scaled_df['DATA_FESTIVA'], bw=1.5, ax=ax2)\n",
    "sns.kdeplot(scaled_df['VESPERA_DATA_FESTIVA'], bw=1.5, ax=ax2)\n",
    "sns.kdeplot(scaled_df['POS_DATA_FESTIVA'], bw=1.5, ax=ax2)\n",
    "sns.kdeplot(scaled_df['DATA_NAO_FESTIVA'], bw=1.5, ax=ax2)\n",
    "sns.kdeplot(scaled_df['FERIADO'], bw=1.5, ax=ax2)\n",
    "sns.kdeplot(scaled_df['NAO_FERIADO'], bw=1.5, ax=ax2)\n",
    "sns.kdeplot(scaled_df['SEMANA_PAGAMENTO'], bw=1.5, ax=ax2)\n",
    "sns.kdeplot(scaled_df['SEMANA_DE_NAO_PAGAMENTO'], bw=1.5, ax=ax2)\n",
    "sns.kdeplot(scaled_df['BAIXA_TEMPORADA'], bw=1.5, ax=ax2)\n",
    "sns.kdeplot(scaled_df['ALTA_TEMPORADA'], bw=1.5, ax=ax2)\n",
    "sns.kdeplot(scaled_df['QTD_CONCORRENTES'], bw=1.5, ax=ax2)\n",
    "sns.kdeplot(scaled_df['PRECIPITACAO'], bw=1.5, ax=ax2)\n",
    "sns.kdeplot(scaled_df['TEMPERATURA'], bw=1.5, ax=ax2)\n",
    "sns.kdeplot(scaled_df['UMIDADE'], bw=1.5, ax=ax2)\n",
    "\n",
    "plt.show()"
   ]
  },
  {
   "cell_type": "code",
   "execution_count": null,
   "metadata": {},
   "outputs": [],
   "source": [
    "from sklearn import preprocessing\n",
    "from sklearn.model_selection import train_test_split\n",
    "from sklearn.preprocessing import StandardScaler\n",
    "\n",
    "# featured engineering\n",
    "X = df.drop(columns=['DATA', 'VENDAS'])\n",
    "y = df.drop(columns=['DATA', 'FDS', 'DS', 'DATA_FESTIVA', 'VESPERA_DATA_FESTIVA', 'POS_DATA_FESTIVA', 'DATA_NAO_FESTIVA', 'FERIADO', 'NAO_FERIADO', 'SEMANA_PAGAMENTO', 'SEMANA_DE_NAO_PAGAMENTO', 'BAIXA_TEMPORADA', 'ALTA_TEMPORADA', 'QTD_CONCORRENTES', 'PRECIPITACAO', 'TEMPERATURA', 'UMIDADE'])\n",
    "\n",
    "# shuffled and splitted into training and testing\n",
    "X_train, X_test, y_train, y_test = train_test_split(X, y, test_size=0.1, shuffle=False)\n",
    "\n",
    "#feature scaling\n",
    "scaler = preprocessing.StandardScaler().fit(X_train)\n",
    "X_train = scaler.fit_transform(X_train)\n",
    "X_test = scaler.transform(X_test)"
   ]
  },
  {
   "cell_type": "code",
   "execution_count": null,
   "metadata": {},
   "outputs": [],
   "source": [
    "from sklearn.ensemble import GradientBoostingRegressor\n",
    "from sklearn.model_selection import cross_val_score\n",
    "\n",
    "gb = GradientBoostingRegressor(random_state=0, n_estimators=30000, max_depth=20)\n",
    "gb.fit(X_train, y_train)\n",
    "y_pred = gb.predict(X_test)\n",
    "scores = cross_val_score(tree, X_test, y_test, cv=10)\n",
    "\n",
    "df1 = pd.DataFrame({'Actual': y_test.values.flatten(), 'Predicted': y_pred.flatten()})\n",
    "df1.plot(kind='line', figsize=(14, 5))\n",
    "plt.show()"
   ]
  },
  {
   "cell_type": "code",
   "execution_count": null,
   "metadata": {},
   "outputs": [],
   "source": [
    "from sklearn.tree import DecisionTreeRegressor\n",
    "from sklearn.model_selection import cross_val_score\n",
    "\n",
    "tree = DecisionTreeRegressor()\n",
    "tree.fit(X_train, y_train)\n",
    "y_pred = tree.predict(X_test)\n",
    "scores = cross_val_score(tree, X_test, y_test, cv=10)\n",
    "\n",
    "df1 = pd.DataFrame({'Actual': y_test.values.flatten(), 'Predicted': y_pred.flatten()})\n",
    "df1.plot(kind='line', figsize=(14, 5))\n",
    "plt.show()"
   ]
  },
  {
   "cell_type": "code",
   "execution_count": null,
   "metadata": {},
   "outputs": [],
   "source": [
    "from sklearn.tree import DecisionTreeRegressor\n",
    "from sklearn.model_selection import cross_val_score\n",
    "\n",
    "tree2 = AdaBoostRegressor(DecisionTreeRegressor(max_depth=80), n_estimators=600, random_state=rng, loss='square')\n",
    "tree2.fit(X_train, y_train)\n",
    "y_pred = tree2.predict(X_test)\n",
    "scores = cross_val_score(tree2, X_test, y_test, cv=10)\n",
    "\n",
    "df1 = pd.DataFrame({'Actual': y_test.values.flatten(), 'Predicted': y_pred.flatten()})\n",
    "df1.plot(kind='line', figsize=(14, 5))\n",
    "plt.show()"
   ]
  },
  {
   "cell_type": "code",
   "execution_count": null,
   "metadata": {},
   "outputs": [],
   "source": [
    "from sklearn.neural_network import MLPRegressor\n",
    "from sklearn.model_selection import cross_val_score\n",
    "\n",
    "nn = MLPRegressor(random_state=1, hidden_layer_sizes=17, max_iter=2000, early_stopping=True)\n",
    "nn.fit(X_train, y_train)\n",
    "y_pred = nn.predict(X_test)\n",
    "scores = cross_val_score(nn, X_test, y_test, cv=10)\n",
    "\n",
    "df1 = pd.DataFrame({'Actual': y_test.values.flatten(), 'Predicted': y_pred.flatten()})\n",
    "df1.plot(kind='line', figsize=(14, 5))\n",
    "plt.show()"
   ]
  },
  {
   "cell_type": "code",
   "execution_count": null,
   "metadata": {},
   "outputs": [],
   "source": [
    "from sklearn.neural_network import MLPRegressor\n",
    "from sklearn.model_selection import cross_val_score\n",
    "\n",
    "nn = MLPRegressor(random_state=0, hidden_layer_sizes=500, max_iter=2000, early_stopping=True)\n",
    "nn.fit(X_train, y_train)\n",
    "y_pred = nn.predict(X_test)\n",
    "scores = cross_val_score(nn, X_test, y_test, cv=10)\n",
    "\n",
    "df1 = pd.DataFrame({'Actual': y_test.values.flatten(), 'Predicted': y_pred.flatten()})\n",
    "df1.plot(kind='line', figsize=(14, 5))\n",
    "plt.show()"
   ]
  }
 ],
 "metadata": {
  "kernelspec": {
   "display_name": "Python 3",
   "language": "python",
   "name": "python3"
  },
  "language_info": {
   "codemirror_mode": {
    "name": "ipython",
    "version": 3
   },
   "file_extension": ".py",
   "mimetype": "text/x-python",
   "name": "python",
   "nbconvert_exporter": "python",
   "pygments_lexer": "ipython3",
   "version": "3.7.6"
  }
 },
 "nbformat": 4,
 "nbformat_minor": 4
}
