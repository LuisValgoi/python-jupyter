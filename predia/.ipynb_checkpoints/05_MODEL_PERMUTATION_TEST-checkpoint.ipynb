{
 "cells": [
  {
   "cell_type": "code",
   "execution_count": 102,
   "metadata": {},
   "outputs": [],
   "source": [
    "# imports\n",
    "import pandas as pd\n",
    "import numpy as np\n",
    "from dateutil import parser"
   ]
  },
  {
   "cell_type": "code",
   "execution_count": 103,
   "metadata": {},
   "outputs": [],
   "source": [
    "# configs\n",
    "import warnings\n",
    "warnings.filterwarnings(\"ignore\")"
   ]
  },
  {
   "cell_type": "code",
   "execution_count": 104,
   "metadata": {},
   "outputs": [],
   "source": [
    "# read csvs & build dataframe\n",
    "df = pd.read_csv('./datasets/2_dados_correlacionados.csv', ',')\n",
    "pd.set_option('display.max_rows', 50)"
   ]
  },
  {
   "cell_type": "code",
   "execution_count": 105,
   "metadata": {},
   "outputs": [],
   "source": [
    "from sklearn import preprocessing\n",
    "from sklearn.model_selection import train_test_split\n",
    "from sklearn.preprocessing import StandardScaler\n",
    "\n",
    "from sklearn.ensemble import GradientBoostingRegressor\n",
    "from sklearn import metrics\n",
    "\n",
    "import mpld3\n",
    "import matplotlib.style as style\n",
    "import matplotlib.pyplot as plt\n",
    "mpld3.enable_notebook()\n",
    "\n",
    "import eli5\n",
    "from eli5.sklearn import PermutationImportance\n",
    "\n",
    "from sklearn.model_selection import GridSearchCV, RandomizedSearchCV\n",
    "\n",
    "# featured engineering\n",
    "X = df.drop(columns=['DATA', 'VENDAS', 'QTD_CONCORRENTES', 'NAO_FERIADO', 'FERIADO', 'DATA_FESTIVA', 'SEMANA_DE_NAO_PAGAMENTO', 'SEMANA_PAGAMENTO'])\n",
    "y = df.drop(columns=['DATA', 'FDS', 'DS', 'DATA_FESTIVA', 'VESPERA_DATA_FESTIVA', 'POS_DATA_FESTIVA', 'DATA_NAO_FESTIVA', 'FERIADO', 'NAO_FERIADO', 'SEMANA_PAGAMENTO', 'SEMANA_DE_NAO_PAGAMENTO', 'BAIXA_TEMPORADA', 'ALTA_TEMPORADA', 'QTD_CONCORRENTES', 'PRECIPITACAO', 'TEMPERATURA', 'UMIDADE'])\n",
    "\n",
    "# shuffled and splitted into training and testing\n",
    "X_train, X_test, y_train, y_test = train_test_split(X, y, test_size=0.1, shuffle=True)\n",
    "\n",
    "# feature scaling\n",
    "scaler = preprocessing.StandardScaler().fit(X_train)\n",
    "X_train = scaler.fit_transform(X_train)\n",
    "X_test = scaler.transform(X_test)"
   ]
  },
  {
   "cell_type": "code",
   "execution_count": 106,
   "metadata": {},
   "outputs": [
    {
     "ename": "NameError",
     "evalue": "name 'x' is not defined",
     "output_type": "error",
     "traceback": [
      "\u001b[0;31m---------------------------------------------------------------------------\u001b[0m",
      "\u001b[0;31mNameError\u001b[0m                                 Traceback (most recent call last)",
      "\u001b[0;32m<ipython-input-106-0a97c6eb4f55>\u001b[0m in \u001b[0;36m<module>\u001b[0;34m\u001b[0m\n\u001b[0;32m----> 1\u001b[0;31m \u001b[0mx\u001b[0m\u001b[0;34m.\u001b[0m\u001b[0minfo\u001b[0m\u001b[0;34m(\u001b[0m\u001b[0;34m)\u001b[0m\u001b[0;34m\u001b[0m\u001b[0;34m\u001b[0m\u001b[0m\n\u001b[0m",
      "\u001b[0;31mNameError\u001b[0m: name 'x' is not defined"
     ]
    }
   ],
   "source": [
    "x.info()"
   ]
  },
  {
   "cell_type": "code",
   "execution_count": null,
   "metadata": {},
   "outputs": [],
   "source": [
    "df.plot(y=['VENDAS', 'TEMPERATURA'], x='DATA', figsize=(10, 5))\n",
    "plt.legend(loc=1)\n",
    "plt.title('AMOSTRAGEM DE TODOS OS DIAS ABERTOS ENTRE VENDAS E TEMPERATURA')\n",
    "plt.xlabel('DATA')\n",
    "plt.ylabel('VENDAS')\n",
    "plt.show()"
   ]
  },
  {
   "cell_type": "code",
   "execution_count": null,
   "metadata": {},
   "outputs": [],
   "source": [
    "# modeling\n",
    "model = GradientBoostingRegressor(random_state=0, n_estimators=6000, max_depth=20)\n",
    "model.fit(X_train, y_train)\n",
    "y_pred = model.predict(X_test)\n",
    "df1 = pd.DataFrame({'Actual': y_test.values.flatten(), 'Predicted': y_pred.flatten()})\n",
    "df1.plot(kind='line', figsize=(10, 5), linestyle='solid', linewidth=1, markersize=2, style=\"-o\")\n",
    "plt.show()\n",
    "\n",
    "# printing first metrics\n",
    "print(f'RMSE: {metrics.mean_squared_error(y_test, y_pred, squared=True)}')"
   ]
  },
  {
   "cell_type": "code",
   "execution_count": null,
   "metadata": {},
   "outputs": [],
   "source": [
    "# random saearch\n",
    "parameters = {\n",
    "    'loss': ['ls', 'lad', 'quantile'],\n",
    "    'criterion': ['mse', 'mae', 'friedman_mse'],\n",
    "    'max_depth': [5, 10, 30, 60, 90, 100],\n",
    "    'min_samples_leaf': [3, 4, 5],\n",
    "    'min_samples_split': [8, 10, 12],\n",
    "    'n_estimators': [100, 200, 300, 1000],\n",
    "    'learning_rate': [0.1, 0.5, 1, 1.5, 2]\n",
    "}            \n",
    "search_obj = GridSearchCV(model, parameters, n_jobs=-1)\n",
    "fit_obj = search_obj.fit(X_train, y_train)\n",
    "fit_obj.best_estimator_"
   ]
  },
  {
   "cell_type": "code",
   "execution_count": null,
   "metadata": {},
   "outputs": [],
   "source": [
    "# modeling\n",
    "b_model = fit_obj.best_estimator_\n",
    "b_model.fit(X_train, y_train)\n",
    "b_y_pred = b_model.predict(X_test)\n",
    "b_y_pred\n",
    "df2 = pd.DataFrame({'Actual': y_test.values.flatten(), 'Predicted': b_y_pred.flatten()})\n",
    "df2.plot(kind='line', figsize=(10, 5), linestyle='solid', linewidth=1, markersize=2, style=\"-o\")\n",
    "plt.show()\n",
    "\n",
    "# printing first metrics\n",
    "print(f'RMSE: {metrics.mean_squared_error(y_test, b_y_pred, squared=True)}')"
   ]
  }
 ],
 "metadata": {
  "kernelspec": {
   "display_name": "Python 3",
   "language": "python",
   "name": "python3"
  },
  "language_info": {
   "codemirror_mode": {
    "name": "ipython",
    "version": 3
   },
   "file_extension": ".py",
   "mimetype": "text/x-python",
   "name": "python",
   "nbconvert_exporter": "python",
   "pygments_lexer": "ipython3",
   "version": "3.7.6"
  }
 },
 "nbformat": 4,
 "nbformat_minor": 4
}
